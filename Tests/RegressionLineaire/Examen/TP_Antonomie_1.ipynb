{
 "cells": [
  {
   "cell_type": "markdown",
   "metadata": {},
   "source": [
    "# Analyse de la personnalité des consommateurs"
   ]
  },
  {
   "cell_type": "markdown",
   "metadata": {},
   "source": [
    "Le but de notre étude va être de déterminer des groupes de consommateurs en fonction de leurs actions aux différentes actions marketing (exemple un email publicitaire). Le rendu se fera au plus tard le 10/11 à 17h directement sur Moodle (ou par mail si difficulté : patou.alison@gmail.com)"
   ]
  },
  {
   "cell_type": "markdown",
   "metadata": {},
   "source": [
    "Notre fichier de travail *marketing_campaign.csv* contient 1 ligne par client et les informations suivantes : \n",
    "\n",
    "\n",
    "People\n",
    "\n",
    "ID: Customer's unique identifier  \n",
    "Year_Birth: Customer's birth year  \n",
    "Education: Customer's education level  \n",
    "Marital_Status: Customer's marital status  \n",
    "Income: Customer's yearly household income  \n",
    "Kidhome: Number of children in customer's household  \n",
    "Teenhome: Number of teenagers in customer's household  \n",
    "Dt_Customer: Date of customer's enrollment with the company  \n",
    "Recency: Number of days since customer's last purchase  \n",
    "Complain: 1 if customer complained in the last 2 years, 0 otherwise  \n",
    "    \n",
    "Products\n",
    "\n",
    "MntWines: Amount spent on wine in last 2 years  \n",
    "MntFruits: Amount spent on fruits in last 2 years  \n",
    "MntMeatProducts: Amount spent on meat in last 2 years  \n",
    "MntFishProducts: Amount spent on fish in last 2 years  \n",
    "MntSweetProducts: Amount spent on sweets in last 2 years  \n",
    "MntGoldProds: Amount spent on gold in last 2 years  \n",
    "    \n",
    "Promotion\n",
    "\n",
    "NumDealsPurchases: Number of purchases made with a discount  \n",
    "AcceptedCmp1: 1 if customer accepted the offer in the 1st campaign, 0 otherwise  \n",
    "AcceptedCmp2: 1 if customer accepted the offer in the 2nd campaign, 0 otherwise  \n",
    "AcceptedCmp3: 1 if customer accepted the offer in the 3rd campaign, 0 otherwise  \n",
    "AcceptedCmp4: 1 if customer accepted the offer in the 4th campaign, 0 otherwise  \n",
    "AcceptedCmp5: 1 if customer accepted the offer in the 5th campaign, 0 otherwise  \n",
    "Response: 1 if customer accepted the offer in the last campaign, 0 otherwise  \n",
    "    \n",
    "Place\n",
    "\n",
    "NumWebPurchases: Number of purchases made through the company’s web site  \n",
    "NumCatalogPurchases: Number of purchases made using a catalogue  \n",
    "NumStorePurchases: Number of purchases made directly in stores  \n",
    "NumWebVisitsMonth: Number of visits to company’s web site in the last month  \n",
    "    "
   ]
  },
  {
   "cell_type": "markdown",
   "metadata": {},
   "source": [
    "## Théorie"
   ]
  },
  {
   "cell_type": "markdown",
   "metadata": {},
   "source": [
    "A votre avis, dans quelle famille d'algorithme sommes-nous ?"
   ]
  },
  {
   "cell_type": "code",
   "execution_count": null,
   "metadata": {},
   "outputs": [],
   "source": []
  },
  {
   "cell_type": "markdown",
   "metadata": {},
   "source": [
    "Est-ce que le kmeans est un algorithme de Machine Learning ou Deep Learning?"
   ]
  },
  {
   "cell_type": "code",
   "execution_count": null,
   "metadata": {},
   "outputs": [],
   "source": []
  },
  {
   "cell_type": "markdown",
   "metadata": {},
   "source": [
    "Quels autres algorithmes de clustering, hors kmeans, aurions-nous pu tester?"
   ]
  },
  {
   "cell_type": "code",
   "execution_count": null,
   "metadata": {},
   "outputs": [],
   "source": []
  },
  {
   "cell_type": "markdown",
   "metadata": {},
   "source": [
    "Avec quel fonction séparons-nous notre jeu d'entrainement et de test en Python? Est-ce nécessaire ici?"
   ]
  },
  {
   "cell_type": "code",
   "execution_count": null,
   "metadata": {},
   "outputs": [],
   "source": []
  },
  {
   "cell_type": "markdown",
   "metadata": {},
   "source": [
    "En quoi sommes-nous avec ce sujet, dans une problématique d'Intelligence Artificielle?"
   ]
  },
  {
   "cell_type": "code",
   "execution_count": null,
   "metadata": {},
   "outputs": [],
   "source": []
  },
  {
   "cell_type": "markdown",
   "metadata": {},
   "source": [
    "## Etude"
   ]
  },
  {
   "cell_type": "markdown",
   "metadata": {},
   "source": [
    "Le travail à rendre consistera donc à explorer le dataset, faire des visualisations ainsi qu'un clustering et une analyse des résultats de manière autonome."
   ]
  },
  {
   "cell_type": "markdown",
   "metadata": {},
   "source": [
    "Pour ce faire, ce que je veux voir à minima :\n",
    "    - Import des packages et du dataset\n",
    "    - Une dizaine de visualisations (répartition du statut marital, le Total Expenses par Educational Field, etc )\n",
    "    - Une matrice de corrélation et une interprétation des corrélations\n",
    "    - Un diagramme du coude\n",
    "    - clustering avec un kmeans \n",
    "    - Evaluer votre modèle (ex : indice de silhouette pour le kmeans)\n",
    "    - Interpréter vos clusters -> caractériser chacun des clusters (ex : le cluster 1 comprend les clients qui sont actifs et achètent souvent après une campagne marketing etc)"
   ]
  },
  {
   "cell_type": "code",
   "execution_count": null,
   "metadata": {},
   "outputs": [],
   "source": []
  },
  {
   "cell_type": "code",
   "execution_count": null,
   "metadata": {},
   "outputs": [],
   "source": []
  },
  {
   "cell_type": "code",
   "execution_count": null,
   "metadata": {},
   "outputs": [],
   "source": []
  }
 ],
 "metadata": {
  "kernelspec": {
   "display_name": "Python 3",
   "language": "python",
   "name": "python3"
  },
  "language_info": {
   "codemirror_mode": {
    "name": "ipython",
    "version": 3
   },
   "file_extension": ".py",
   "mimetype": "text/x-python",
   "name": "python",
   "nbconvert_exporter": "python",
   "pygments_lexer": "ipython3",
   "version": "3.8.3"
  },
  "toc": {
   "base_numbering": 1,
   "nav_menu": {},
   "number_sections": true,
   "sideBar": true,
   "skip_h1_title": false,
   "title_cell": "Table of Contents",
   "title_sidebar": "Contents",
   "toc_cell": false,
   "toc_position": {},
   "toc_section_display": true,
   "toc_window_display": false
  }
 },
 "nbformat": 4,
 "nbformat_minor": 4
}
